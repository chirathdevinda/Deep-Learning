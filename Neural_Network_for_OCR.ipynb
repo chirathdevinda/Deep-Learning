{
 "cells": [
  {
   "cell_type": "markdown",
   "metadata": {},
   "source": [
    "# Three Layers Neural Network (MNIST DataSet)"
   ]
  },
  {
   "cell_type": "code",
   "execution_count": 40,
   "metadata": {
    "collapsed": true
   },
   "outputs": [],
   "source": [
    "# Importing packages\n",
    "import numpy as np\n",
    "import pandas as pd\n",
    "import matplotlib.pyplot as plt\n",
    "import sys\n",
    "from sklearn.preprocessing import LabelBinarizer\n",
    "\n",
    "filename = \"DataSets\\MNIST_train.csv\""
   ]
  },
  {
   "cell_type": "code",
   "execution_count": 31,
   "metadata": {
    "collapsed": true
   },
   "outputs": [],
   "source": [
    "# Loading and Preprocessing the data\n",
    "def preprocessing(filename):\n",
    "    dataset = pd.read_csv(filename, header=0)\n",
    "    data = dataset.values\n",
    "    x = data[:,1:] / 255 # Normalize each pixels to Grayscale 0 to 1\n",
    "    y = data[:,0]\n",
    "    \n",
    "    lb = LabelBinarizer()\n",
    "    lb.fit(y)\n",
    "    y = lb.transform(y)\n",
    "    \n",
    "    return x, y"
   ]
  },
  {
   "cell_type": "code",
   "execution_count": 32,
   "metadata": {},
   "outputs": [],
   "source": [
    "# Loading the dataset\n",
    "trainX, trainY = preprocessing(filename)"
   ]
  },
  {
   "cell_type": "code",
   "execution_count": 33,
   "metadata": {},
   "outputs": [],
   "source": [
    "# Select only 1000 images\n",
    "trainX = trainX[:1000]"
   ]
  },
  {
   "cell_type": "code",
   "execution_count": 34,
   "metadata": {},
   "outputs": [],
   "source": [
    "# Nonlinear Function\n",
    "def relu(inputs):\n",
    "    return (inputs > 0) * inputs\n",
    "\n",
    "# Direvative of the Nonlinear function\n",
    "def relu2Direvative(output):\n",
    "    return (output > 0)"
   ]
  },
  {
   "cell_type": "code",
   "execution_count": 42,
   "metadata": {},
   "outputs": [],
   "source": [
    "# Neural Network Function\n",
    "def NeuralNetwork(train, labels):\n",
    "    \n",
    "    np.random.seed(1) # Setting the random seed\n",
    "    \n",
    "    alpha = 0.05\n",
    "    iterations = 100\n",
    "    input_nodes = train.shape[1] # Image Pixels\n",
    "    hidden_nodes = 40\n",
    "    output_nodes = 10 # 0 to 9 Numbers\n",
    "    \n",
    "    weights_0_1 = 0.2 * np.random.random((input_nodes, hidden_nodes)) - 0.1\n",
    "    weights_1_2 = 0.2 * np.random.random((hidden_nodes, output_nodes)) - 0.1\n",
    "    \n",
    "    errors = []\n",
    "    \n",
    "    for iteration in range(iterations):\n",
    "        \n",
    "        error = 0.0\n",
    "        correct_cnt = 0\n",
    "        for i in range(train.shape[0]):\n",
    "            \n",
    "            layer_0 = train[i:i+1]\n",
    "            layer_1 = relu(layer_0.dot(weights_0_1))\n",
    "            layer_2 = layer_1.dot(weights_1_2)\n",
    "            \n",
    "            error += np.sum((layer_2 - labels[i:i+1]) ** 2)\n",
    "            correct_cnt += int(np.argmax(layer_2)) == np.argmax(labels[i:i+1])\n",
    "            \n",
    "            layer_2_delta = layer_2 - labels[i:i+1]\n",
    "            layer_1_delta = layer_2_delta.dot(weights_1_2.T) * relu2Direvative(layer_1)\n",
    "            \n",
    "            weights_1_2 -= layer_1.T.dot(layer_2_delta) * alpha\n",
    "            weights_0_1 -= layer_0.T.dot(layer_1_delta) * alpha\n",
    "        \n",
    "        errors.append(error)\n",
    "        sys.stdout.write(\"\\r\" + \"Iteration: \" + str(iteration) + \" Error: \" + str(error) + \" Correct Count: \" + str(correct_cnt))\n",
    "        \n",
    "    return errors"
   ]
  },
  {
   "cell_type": "code",
   "execution_count": 43,
   "metadata": {
    "collapsed": true
   },
   "outputs": [],
   "source": [
    "# Plotting Function\n",
    "def plot(data):\n",
    "    ax = plt.figure(figsize=(10,6))\n",
    "    ax.suptitle(\"Error Plot\", fontsize=20)\n",
    "    plt.plot(data)\n",
    "    plt.xlabel(\"Iteration\", fontsize=15)\n",
    "    plt.ylabel(\"Error\", fontsize=15)\n",
    "    plt.show()"
   ]
  },
  {
   "cell_type": "code",
   "execution_count": 38,
   "metadata": {},
   "outputs": [
    {
     "name": "stdout",
     "output_type": "stream",
     "text": [
      "Iteration: 99 Error: 10.9956578689 Correct Count: 993"
     ]
    }
   ],
   "source": [
    "# Call Neural Network Function\n",
    "errors = NeuralNetwork(trainX, trainY)"
   ]
  },
  {
   "cell_type": "code",
   "execution_count": 41,
   "metadata": {},
   "outputs": [
    {
     "data": {
      "image/png": "[encoded data removed]",
      "text/plain": [
       "<matplotlib.figure.Figure at 0xae40c18>"
      ]
     },
     "metadata": {},
     "output_type": "display_data"
    }
   ],
   "source": [
    "# Plotting Error Curve\n",
    "plot(errors)"
   ]
  },
  {
   "cell_type": "code",
   "execution_count": null,
   "metadata": {
    "collapsed": true
   },
   "outputs": [],
   "source": []
  }
 ],
 "metadata": {
  "kernelspec": {
   "display_name": "Python 3",
   "language": "python",
   "name": "python3"
  },
  "language_info": {
   "codemirror_mode": {
    "name": "ipython",
    "version": 3
   },
   "file_extension": ".py",
   "mimetype": "text/x-python",
   "name": "python",
   "nbconvert_exporter": "python",
   "pygments_lexer": "ipython3",
   "version": "3.6.1"
  }
 },
 "nbformat": 4,
 "nbformat_minor": 2
}
