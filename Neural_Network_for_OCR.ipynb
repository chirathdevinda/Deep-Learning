{
 "cells": [
  {
   "cell_type": "markdown",
   "metadata": {},
   "source": [
    "# Three Layers Neural Network (MNIST DataSet)"
   ]
  },
  {
   "cell_type": "code",
   "execution_count": 1,
   "metadata": {
    "collapsed": true
   },
   "outputs": [],
   "source": [
    "# Importing packages\n",
    "import numpy as np\n",
    "import pandas as pd\n",
    "import matplotlib.pyplot as plt\n",
    "import sys\n",
    "from sklearn.preprocessing import LabelBinarizer\n",
    "\n",
    "train_filename = \"DataSets\\MNIST_train.csv\"\n",
    "test_filename = \"DataSets\\MNIST_test.csv\""
   ]
  },
  {
   "cell_type": "code",
   "execution_count": 2,
   "metadata": {
    "collapsed": true
   },
   "outputs": [],
   "source": [
    "# Loading and Preprocessing the data\n",
    "def preprocessing(filename):\n",
    "    dataset = pd.read_csv(filename, header=0)\n",
    "    data = dataset.values\n",
    "    x = data[:,1:] / 255 # Normalize each pixels to Grayscale 0 to 1\n",
    "    y = data[:,0]\n",
    "    \n",
    "    lb = LabelBinarizer()\n",
    "    lb.fit(y)\n",
    "    y = lb.transform(y)\n",
    "    \n",
    "    return x, y"
   ]
  },
  {
   "cell_type": "code",
   "execution_count": 3,
   "metadata": {
    "collapsed": true
   },
   "outputs": [],
   "source": [
    "# Loading the training dataset\n",
    "trainX, trainY = preprocessing(train_filename)\n",
    "\n",
    "# Loading the test dataset\n",
    "testX, testY = preprocessing(test_filename)"
   ]
  },
  {
   "cell_type": "code",
   "execution_count": 4,
   "metadata": {
    "collapsed": true
   },
   "outputs": [],
   "source": [
    "# Select only 1000 training images\n",
    "trainX = trainX[:1000]"
   ]
  },
  {
   "cell_type": "code",
   "execution_count": 76,
   "metadata": {
    "collapsed": true
   },
   "outputs": [],
   "source": [
    "# Nonlinear Function\n",
    "def relu(inputs):\n",
    "    return (inputs > 0) * inputs\n",
    "\n",
    "# Direvative of the Nonlinear function\n",
    "def relu2Direvative(output):\n",
    "    return (output > 0)"
   ]
  },
  {
   "cell_type": "code",
   "execution_count": 94,
   "metadata": {},
   "outputs": [],
   "source": [
    "np.random.seed(1)\n",
    "\n",
    "# Neural Network Function\n",
    "def NeuralNetwork(train, labels):\n",
    "    \n",
    "    np.random.seed(1) # Setting the random seed\n",
    "    \n",
    "    alpha = 0.005\n",
    "    iterations = 500\n",
    "    input_nodes = train.shape[1] # Image Pixels\n",
    "    hidden_nodes = 40\n",
    "    output_nodes = 10 # 0 to 9 Numbers\n",
    "    num_samples = train.shape[0]\n",
    "    \n",
    "    weights_0_1 = 0.2 * np.random.random((input_nodes, hidden_nodes)) - 0.1\n",
    "    weights_1_2 = 0.2 * np.random.random((hidden_nodes, output_nodes)) - 0.1\n",
    "    \n",
    "    errors = []\n",
    "    \n",
    "    for iteration in range(iterations):\n",
    "        \n",
    "        error = 0.0\n",
    "        correct_cnt = 0\n",
    "        for i in range(train.shape[0]):\n",
    "            \n",
    "            layer_0 = train[i:i+1]\n",
    "            layer_1 = relu(layer_0.dot(weights_0_1))\n",
    "            \n",
    "            #dropout_mask = np.random.randint(2, size=layer_1.shape)\n",
    "            #layer_1 *= dropout_mask * 2\n",
    "            \n",
    "            layer_2 = layer_1.dot(weights_1_2)\n",
    "            \n",
    "            error += np.sum((layer_2 - labels[i:i+1]) ** 2)\n",
    "            correct_cnt += int(np.argmax(layer_2)) == np.argmax(labels[i:i+1])\n",
    "            \n",
    "            layer_2_delta = layer_2 - labels[i:i+1]\n",
    "            layer_1_delta = layer_2_delta.dot(weights_1_2.T) * relu2Direvative(layer_1)\n",
    "            \n",
    "            #layer_1_delta *= dropout_mask\n",
    "            \n",
    "            weights_1_2 -= layer_1.T.dot(layer_2_delta) * alpha\n",
    "            weights_0_1 -= layer_0.T.dot(layer_1_delta) * alpha\n",
    "        \n",
    "        errors.append(error)\n",
    "        sys.stdout.write(\"\\r\" + \"Iteration: \" + str(iteration) + \" Error: \" + str((error/num_samples)*100)[0:5] + \"%\" + \" Correct Count: \" + str(correct_cnt))\n",
    "        \n",
    "    return errors, weights_0_1, weights_1_2"
   ]
  },
  {
   "cell_type": "code",
   "execution_count": 112,
   "metadata": {
    "collapsed": true
   },
   "outputs": [],
   "source": [
    "# Plotting Function\n",
    "def plot(data):\n",
    "    ax = plt.figure(figsize=(10,6))\n",
    "    ax.suptitle(\"Error Plot\", fontsize=20)\n",
    "    plt.plot(data)\n",
    "    plt.xlabel(\"Iteration\", fontsize=15)\n",
    "    plt.ylabel(\"Error\", fontsize=15)\n",
    "    plt.show()"
   ]
  },
  {
   "cell_type": "code",
   "execution_count": 120,
   "metadata": {},
   "outputs": [
    {
     "name": "stdout",
     "output_type": "stream",
     "text": [
      "Iteration: 499 Error: 0.440% Correct Count: 998"
     ]
    }
   ],
   "source": [
    "# Call Neural Network Function\n",
    "errors, weights_0_1, weights_1_2 = NeuralNetwork(trainX, trainY)"
   ]
  },
  {
   "cell_type": "code",
   "execution_count": 121,
   "metadata": {},
   "outputs": [
    {
     "data": {
      "image/png": "[encoded data removed]",
      "text/plain": [
       "<matplotlib.figure.Figure at 0xbcef320>"
      ]
     },
     "metadata": {},
     "output_type": "display_data"
    }
   ],
   "source": [
    "# Plotting Error Curve\n",
    "plot(errors)"
   ]
  },
  {
   "cell_type": "code",
   "execution_count": 122,
   "metadata": {},
   "outputs": [],
   "source": [
    "# Batch Gradient Descent Implementation"
   ]
  },
  {
   "cell_type": "code",
   "execution_count": 123,
   "metadata": {
    "collapsed": true
   },
   "outputs": [],
   "source": [
    "# Loading the training dataset\n",
    "trainX, trainY = preprocessing(train_filename)"
   ]
  },
  {
   "cell_type": "code",
   "execution_count": 124,
   "metadata": {
    "collapsed": true
   },
   "outputs": [],
   "source": [
    "# Select only 1000 training images\n",
    "trainX = trainX[:1000]"
   ]
  },
  {
   "cell_type": "code",
   "execution_count": 125,
   "metadata": {
    "collapsed": true
   },
   "outputs": [],
   "source": [
    "np.random.seed(1)\n",
    "\n",
    "def RelU(inputs):\n",
    "    return (inputs > 0 ) * inputs\n",
    "\n",
    "def RelUDerivative(output):\n",
    "    return (output > 0)\n",
    "\n",
    "def NeuralNetworkWithBatch(XTrain, YTrain):\n",
    "    \n",
    "    alpha, iterations, batch_size, num_examples, input_nodes, hidden_nodes, output_nodes = 0.005, 500, 100, XTrain.shape[0], XTrain.shape[1], 300, YTrain.shape[1]\n",
    "    \n",
    "    weights_0_1 = 0.2 * np.random.random((input_nodes, hidden_nodes)) - 0.1\n",
    "    weights_1_2 = 0.2 * np.random.random((hidden_nodes, output_nodes)) - 0.1\n",
    "    \n",
    "    errors = []\n",
    "    \n",
    "    for iteration in range(iterations):\n",
    "        error, correct_cnt = 0.0, 0.0\n",
    "        \n",
    "        for i in range(int(num_examples / batch_size)):\n",
    "            \n",
    "            start_batch, end_batch = batch_size * i, batch_size * (i+1)\n",
    "            layer_0 = XTrain[start_batch:end_batch]\n",
    "            \n",
    "            layer_1 = RelU(layer_0.dot(weights_0_1))\n",
    "            dropout_mask = np.random.randint(2, size=layer_1.shape)\n",
    "            layer_1 *= dropout_mask * 2\n",
    "            \n",
    "            layer_2 = layer_1.dot(weights_1_2)\n",
    "            \n",
    "            error += np.sum((layer_2 - YTrain[start_batch:end_batch]) ** 2)\n",
    "            for k in range(batch_size):\n",
    "                correct_cnt += int(np.argmax(layer_2[k:k+1])) == np.argmax(YTrain[start_batch:end_batch][k:k+1]) \n",
    "            \n",
    "            layer_2_delta = (layer_2 - YTrain[start_batch:end_batch])\n",
    "            layer_1_delta = (layer_2_delta.dot(weights_1_2.T) * RelUDerivative(layer_1))\n",
    "            layer_1_delta *= dropout_mask\n",
    "            \n",
    "            weights_1_2 -= layer_1.T.dot(layer_2_delta) * alpha\n",
    "            weights_0_1 -= layer_0.T.dot(layer_1_delta) * alpha\n",
    "        \n",
    "        errors.append(error)\n",
    "        sys.stdout.write(\"\\r\" + \"Iteration: \" + str(iteration) + \" Error: \" + str((error / num_examples)*100)[0:4] + \"%\" + \" Correct Count:\" + str(correct_cnt))\n",
    "        \n",
    "    return errors, weights_0_1, weights_1_2"
   ]
  },
  {
   "cell_type": "code",
   "execution_count": 126,
   "metadata": {},
   "outputs": [
    {
     "name": "stdout",
     "output_type": "stream",
     "text": [
      "Iteration: 499 Error: 19.4% Correct Count:968.0"
     ]
    }
   ],
   "source": [
    "# Call Neural Network Function\n",
    "errors, weights_0_1, weights_1_2 = NeuralNetworkWithBatch(trainX, trainY)"
   ]
  },
  {
   "cell_type": "code",
   "execution_count": 118,
   "metadata": {},
   "outputs": [
    {
     "data": {
      "image/png": "[encoded data removed]",
      "text/plain": [
       "<matplotlib.figure.Figure at 0xbc85ac8>"
      ]
     },
     "metadata": {},
     "output_type": "display_data"
    }
   ],
   "source": [
    "# Plotting Error Curve\n",
    "plot(errors)"
   ]
  },
  {
   "cell_type": "code",
   "execution_count": null,
   "metadata": {
    "collapsed": true
   },
   "outputs": [],
   "source": []
  }
 ],
 "metadata": {
  "kernelspec": {
   "display_name": "Python 3",
   "language": "python",
   "name": "python3"
  },
  "language_info": {
   "codemirror_mode": {
    "name": "ipython",
    "version": 3
   },
   "file_extension": ".py",
   "mimetype": "text/x-python",
   "name": "python",
   "nbconvert_exporter": "python",
   "pygments_lexer": "ipython3",
   "version": "3.6.1"
  }
 },
 "nbformat": 4,
 "nbformat_minor": 2
}
